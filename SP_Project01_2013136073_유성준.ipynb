{
 "cells": [
  {
   "cell_type": "markdown",
   "metadata": {},
   "source": [
    "#### Q1. \n",
    "1000 ~ 9999 까지(1000과 9999도 계산에 포함)의 네 자리 숫자 가운데에 '10'을 포함하는 숫자의 갯수는?"
   ]
  },
  {
   "cell_type": "code",
   "execution_count": 71,
   "metadata": {},
   "outputs": [
    {
     "name": "stdout",
     "output_type": "stream",
     "text": [
      "279\n"
     ]
    }
   ],
   "source": [
    "number_list = list(map(str, range(1000,10000))) # 1000~9999까지 map을 이용해 문자열로 리스트를 생성\n",
    "search = \"10\" # 조건 ( \"10\" 을 포함)\n",
    "answer_list = [] # number_list에서 조건을 만족하는 값들의 리스트\n",
    "\n",
    "# number_list에서 \"10\"을 포함하는 값을 answer_list에 추가\n",
    "for number in number_list:\n",
    "    if search in number:\n",
    "        answer_list.append(number_list)\n",
    "\n",
    "print(len(answer_list)) # 조건을 만족하는 숫자의 개수"
   ]
  },
  {
   "cell_type": "markdown",
   "metadata": {},
   "source": [
    "#### Q2. \n",
    "10 ~ 99999 까지(10과 99999도 계산에 포함)의 숫자 가운데에 20의 배수이며 '080'을 포함하는 숫자의 갯수는?"
   ]
  },
  {
   "cell_type": "code",
   "execution_count": 78,
   "metadata": {},
   "outputs": [
    {
     "name": "stdout",
     "output_type": "stream",
     "text": [
      "108\n"
     ]
    }
   ],
   "source": [
    "number_list = [i for i in range(10,100000) if i % 20 == 0] # 10~99999에서 20의 배수로 리스트 생성\n",
    "number_list_str = list(map(str,number_list)) # number_list의 값들을 문자열로 변환한 리스트 생성\n",
    "search = \"080\"\n",
    "answer_list = [] # number_list_str에서 조건을 만족하는 값들의 리스트\n",
    "\n",
    "# number_list_str에서 \"080\"을 포함하는 값을 answer_list에 추가\n",
    "for number in number_list_str:\n",
    "    if search in number:\n",
    "        answer_list.append(number_list_str)\n",
    "        \n",
    "print(len(answer_list))\n"
   ]
  },
  {
   "cell_type": "markdown",
   "metadata": {},
   "source": [
    "#### Q1, 2 질문\n",
    "\n",
    "answer_list의 길이를 출력하면 값이 나오는 것 같은데 리스트를 확인하고 싶지만 이러한 문구가 나옵니다"
   ]
  },
  {
   "cell_type": "code",
   "execution_count": 83,
   "metadata": {},
   "outputs": [
    {
     "name": "stderr",
     "output_type": "stream",
     "text": [
      "IOPub data rate exceeded.\n",
      "The notebook server will temporarily stop sending output\n",
      "to the client in order to avoid crashing it.\n",
      "To change this limit, set the config variable\n",
      "`--NotebookApp.iopub_data_rate_limit`.\n",
      "\n",
      "Current values:\n",
      "NotebookApp.iopub_data_rate_limit=1000000.0 (bytes/sec)\n",
      "NotebookApp.rate_limit_window=3.0 (secs)\n",
      "\n"
     ]
    }
   ],
   "source": [
    "print(answer_list)\n",
    "# print(answer_list)를 하면 \"IOPub data rate exceeded\"라고 값들이 엄청 많다고 경고합니다.\n",
    "# answer_list를 하면 오래 기다린 후 나오는 값들이 엄청 많고 \n",
    "# 조건을 만족하지 않는 숫자들도 포함이 되어있습니다.\n",
    "# len(answer_list)는 그렇게 많지 않은데 왜 이런 경고문구가 뜨는 건가요...?"
   ]
  },
  {
   "cell_type": "markdown",
   "metadata": {},
   "source": [
    "##### Q5.\n",
    "d = {'Hospital':0, 'PostOffice':1, 'Phamacy':2, 'School':3, 'Home':4, 'Convenience':5, 'DepartmentStore':6, 'BeautySalon':7, 'Lotteria':8}는 사전 자료형이며, 각 element의 key는 건물 이름을 의미하고 value는 아래 'map'에서 건물의 위치를 의미한다. '철수'는 매일 집에서 09:00에 나와서 정확히 30분마다 인접한 건물로 이동한다고 했을 때, 18:00에 'Hospital'에 있을 확률 p(0.0 <= p <= 1.0)는 얼마인가?  '철수'는 30분마다 꼭 인접한 건물로 이동해야하며(같은 건물에 30분을 초과하여 체류할 수 없음) 대각선에 위치한 건물로는 이동할 수 없다고 가정한다."
   ]
  }
 ],
 "metadata": {
  "kernelspec": {
   "display_name": "Python 3",
   "language": "python",
   "name": "python3"
  },
  "language_info": {
   "codemirror_mode": {
    "name": "ipython",
    "version": 3
   },
   "file_extension": ".py",
   "mimetype": "text/x-python",
   "name": "python",
   "nbconvert_exporter": "python",
   "pygments_lexer": "ipython3",
   "version": "3.8.3"
  }
 },
 "nbformat": 4,
 "nbformat_minor": 4
}
